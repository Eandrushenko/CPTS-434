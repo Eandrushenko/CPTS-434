{
  "nbformat": 4,
  "nbformat_minor": 0,
  "metadata": {
    "colab": {
      "name": "NNHW1.ipynb",
      "provenance": [],
      "include_colab_link": true
    },
    "kernelspec": {
      "name": "python3",
      "display_name": "Python 3"
    }
  },
  "cells": [
    {
      "cell_type": "markdown",
      "metadata": {
        "id": "view-in-github",
        "colab_type": "text"
      },
      "source": [
        "<a href=\"https://colab.research.google.com/github/Eandrushenko/CPTS-434/blob/master/NNHW1.ipynb\" target=\"_parent\"><img src=\"https://colab.research.google.com/assets/colab-badge.svg\" alt=\"Open In Colab\"/></a>"
      ]
    },
    {
      "cell_type": "code",
      "metadata": {
        "id": "-p9__pFed0hw",
        "colab_type": "code",
        "outputId": "f4c2ff07-10ee-491e-ce8b-0bebc989c2a2",
        "colab": {
          "resources": {
            "http://localhost:8080/nbextensions/google.colab/files.js": {
              "data": "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",
              "ok": true,
              "headers": [
                [
                  "content-type",
                  "application/javascript"
                ]
              ],
              "status": 200,
              "status_text": ""
            }
          },
          "base_uri": "https://localhost:8080/",
          "height": 74
        }
      },
      "source": [
        "import collections\n",
        "import numpy as np\n",
        "from google.colab import drive\n",
        "from google.colab import files\n",
        "\n",
        "uploaded = files.upload()\n",
        "file = np.loadtxt(fname='Noalpha.csv', delimiter=',')"
      ],
      "execution_count": 0,
      "outputs": [
        {
          "output_type": "display_data",
          "data": {
            "text/html": [
              "\n",
              "     <input type=\"file\" id=\"files-56342b2d-0098-4ab6-93d8-cb08cf233407\" name=\"files[]\" multiple disabled />\n",
              "     <output id=\"result-56342b2d-0098-4ab6-93d8-cb08cf233407\">\n",
              "      Upload widget is only available when the cell has been executed in the\n",
              "      current browser session. Please rerun this cell to enable.\n",
              "      </output>\n",
              "      <script src=\"/nbextensions/google.colab/files.js\"></script> "
            ],
            "text/plain": [
              "<IPython.core.display.HTML object>"
            ]
          },
          "metadata": {
            "tags": []
          }
        },
        {
          "output_type": "stream",
          "text": [
            "Saving Noalpha.csv to Noalpha (1).csv\n"
          ],
          "name": "stdout"
        }
      ]
    },
    {
      "cell_type": "code",
      "metadata": {
        "id": "CyS-rc_9ecMT",
        "colab_type": "code",
        "colab": {}
      },
      "source": [
        "import pandas\n",
        "colnames = ['Calories', 'Protein', 'Fat', 'Sodium', 'Fiber', 'Carbo', 'Sugars', 'Potass', 'Vitamins', 'Shelf', 'Weight', 'Cups', 'Rating', 'Cold', 'Nabisco', 'Quaker', 'Kelloggs', 'GeneralMills', 'Ralston', 'AHFP']\n",
        "data = pandas.read_csv('Noalpha.csv', names=colnames)\n",
        "\n",
        "calories = data.Calories.tolist()\n",
        "protein = data.Protein.tolist()\n",
        "fat = data.Fat.tolist()\n",
        "sodium = data.Sodium.tolist()\n",
        "fiber = data.Fiber.tolist()\n",
        "carbo = data.Carbo.tolist()\n",
        "sugars = data.Sugars.tolist()\n",
        "potassium = data.Potass.tolist()\n",
        "vitamins = data.Vitamins.tolist()\n",
        "shelf = data.Shelf.tolist()\n",
        "weight = data.Weight.tolist()\n",
        "cups = data.Cups.tolist()\n",
        "rating = data.Rating.tolist()\n",
        "cold = data.Cold.tolist()\n",
        "nabisco = data.Nabisco.tolist()\n",
        "quaker = data.Quaker.tolist()\n",
        "kelloggs = data.Kelloggs.tolist()\n",
        "generalmills = data.GeneralMills.tolist()\n",
        "ralston = data.Ralston.tolist()\n",
        "ahfp = data.AHFP.tolist()"
      ],
      "execution_count": 0,
      "outputs": []
    },
    {
      "cell_type": "code",
      "metadata": {
        "id": "DnfNjDypcf2r",
        "colab_type": "code",
        "colab": {}
      },
      "source": [
        "from sklearn.linear_model import LinearRegression\n",
        "import statsmodels.api as sm\n",
        "\n",
        "def merger(L1, L2):\n",
        "  i = 0\n",
        "  L3 = []\n",
        "  miniset = []\n",
        "  while (len(L1) > i):\n",
        "    miniset.append(L1[i])\n",
        "    miniset.append(L2[i])\n",
        "    L3.append(miniset)\n",
        "    miniset = []\n",
        "    i += 1\n",
        "  return L3\n",
        "\n",
        "\n",
        "def merger2(L1, L2, L3):\n",
        "  i = 0\n",
        "  L4 = []\n",
        "  miniset = []\n",
        "  while (len(L1) > i):\n",
        "    miniset.append(L1[i])\n",
        "    miniset.append(L2[i])\n",
        "    miniset.append(L3[i])\n",
        "    L4.append(miniset)\n",
        "    miniset = []\n",
        "    i += 1\n",
        "  return L4\n"
      ],
      "execution_count": 0,
      "outputs": []
    },
    {
      "cell_type": "code",
      "metadata": {
        "id": "iEgriLUw71D_",
        "colab_type": "code",
        "outputId": "3e579845-8e85-49ac-938d-5c326169b4f2",
        "colab": {
          "base_uri": "https://localhost:8080/",
          "height": 1000
        }
      },
      "source": [
        "\n",
        "\n",
        "x1 = np.array(fiber)\n",
        "x2 = np.array(sugars)\n",
        "y = np.array(rating)\n",
        "\n",
        "x = merger(x1, x2)\n",
        "x = np.array(x)\n",
        "\n",
        "model = LinearRegression().fit(x, y)\n",
        "r_sq = model.score(x, y)\n",
        "\n",
        "print('coefficient of determination:', r_sq)\n",
        "print('intercept:', model.intercept_)\n",
        "print('slope:', model.coef_)\n",
        "y_pred = model.predict(x)\n",
        "ols = sm.OLS(y, x)\n",
        "ols_result = ols.fit()\n",
        "print('Standard Error', 1 - ols_result.cov_HC0[0][0])\n",
        "print('predicted response:', y_pred, sep='\\n')\n",
        "\n",
        "def third(attribute):\n",
        "  x1 = np.array(fiber)\n",
        "  x2 = np.array(sugars)\n",
        "  x3 = np.array(attribute)\n",
        "  y = np.array(rating)\n",
        "\n",
        "  x = merger2(x1, x2, x3)\n",
        "  x = np.array(x)\n",
        "\n",
        "  model = LinearRegression().fit(x, y)\n",
        "  r_sq = model.score(x, y)\n",
        "  print('coefficient of determination:', r_sq)\n",
        "  print('intercept:', model.intercept_)\n",
        "  print('slope:', model.coef_)\n",
        "  y_pred = model.predict(x)\n",
        "  ols = sm.OLS(y, x)\n",
        "  ols_result = ols.fit()\n",
        "  print('Standard Error', 1 - ols_result.cov_HC0[0][0])\n",
        "  print('predicted response:', y_pred, sep='\\n')\n",
        "  return\n",
        "\n",
        "print(\"\\n\\nPROTEIN\")\n",
        "third(protein)\n",
        "print(\"\\n\\nFAT\")\n",
        "third(fat)\n",
        "print(\"\\n\\nSODIUM\")\n",
        "third(sodium)"
      ],
      "execution_count": 0,
      "outputs": [
        {
          "output_type": "stream",
          "text": [
            "coefficient of determination: 0.8119914707141838\n",
            "intercept: 51.76349256147574\n",
            "slope: [ 2.86610143 -2.20120346]\n",
            "Standard Error 0.09002108378481455\n",
            "predicted response:\n",
            "[67.21728603 39.88606771 66.55238807 91.88891251 37.01996628 34.05061007\n",
            " 23.8127455  39.88606771 50.02067748 55.08798237 25.349051   55.29449195\n",
            " 31.95266139 42.08727117 23.14784754 45.15988217 50.22718706 28.21515243\n",
            " 23.14784754 47.81947402 54.62959399 48.0259836  35.48366078 43.62357667\n",
            " 26.01394896 30.41635589 44.95337259 44.08196505 39.67955813 25.349051\n",
            " 18.74544061 31.95266139 49.35577952 53.75818645 51.55698298 30.41635589\n",
            " 34.05061007 27.55025447 41.42237321 37.68486424 45.15988217 44.28847463\n",
            " 25.349051   45.15988217 36.14855874 36.14855874 31.74615181 44.28847463\n",
            " 31.95266139 44.95337259 55.95938991 34.05061007 38.14325263 48.0259836\n",
            " 51.76349256 54.62959399 44.28847463 59.50196641 39.67955813 41.31911842\n",
            " 44.28847463 47.36108563 45.15988217 60.36179684 63.22789826 60.36179684\n",
            " 21.61154204 48.0259836  49.35577952 45.15988217 32.41104978 53.75818645\n",
            " 45.15988217 25.349051   53.75818645 53.75818645 37.01996628]\n",
            "\n",
            "\n",
            "PROTEIN\n",
            "coefficient of determination: 0.8120020318910215\n",
            "intercept: 51.63589853154976\n",
            "slope: [ 2.85536082 -2.19797625  0.05041393]\n",
            "Standard Error 0.32150277377604064\n",
            "predicted response:\n",
            "[67.20330489 39.91405191 66.54592033 91.8126057  37.00827716 34.04000506\n",
            " 23.82041964 39.91405191 49.97031213 55.07406313 25.3105974  55.45112747\n",
            " 31.90452617 42.11202816 23.11262115 45.14279762 50.19613469 28.16595822\n",
            " 23.11262115 47.8227498  54.64250113 47.99815844 35.46768547 43.60220593\n",
            " 26.01839589 30.36393447 44.96738898 44.08418186 39.68822935 25.3105974\n",
            " 18.76708256 31.90452617 49.36334149 53.759294   51.56131775 30.36393447\n",
            " 34.09041899 27.50857366 41.40422967 37.71607565 45.14279762 44.36041834\n",
            " 25.36101133 45.24362547 36.22589789 36.22589789 31.77953145 44.25959049\n",
            " 31.95494009 44.96738898 55.95727025 34.09041899 38.14763766 48.04857236\n",
            " 51.68631246 54.5920872  44.36041834 59.59744237 39.68822935 41.34173232\n",
            " 44.25959049 47.29035995 45.14279762 60.30280884 63.20858358 60.35322276\n",
            " 21.62244338 48.19981414 49.31292757 45.14279762 32.43691602 53.759294\n",
            " 45.14279762 25.3105974  53.759294   53.759294   37.00827716]\n",
            "\n",
            "\n",
            "FAT\n",
            "coefficient of determination: 0.8678131212410941\n",
            "intercept: 53.53184848828283\n",
            "slope: [ 2.94836525 -1.97986773 -3.43574107]\n",
            "Standard Error 0.08621204768166157\n",
            "predicted response:\n",
            "[67.70055357 26.41093178 66.73205605 94.80896205 33.76978975 31.28423691\n",
            " 28.7620655  36.718155   50.01036205 58.3743361  22.90195357 50.57722912\n",
            " 25.40581569 38.69802273 24.35782691 47.59224529 52.52047828 32.72180096\n",
            " 24.35782691 41.15901217 56.48021374 50.54061055 36.19416061 46.58087509\n",
            " 27.30619216 34.7016687  48.51787013 41.6035153  44.51526198 26.33769464\n",
            " 23.83383252 32.27729783 49.04186452 56.43734106 44.15025011 27.83018655\n",
            " 34.71997798 31.75330344 41.16526628 38.17402834 44.15650422 40.67789046\n",
            " 26.33769464 44.15650422 30.29117599 30.29117599 29.7671816  44.11363154\n",
            " 32.27729783 41.64638799 58.41720879 31.28423691 40.0681507  50.54061055\n",
            " 53.53184849 56.48021374 44.11363154 54.62095253 41.07952091 38.19233763\n",
            " 47.54937261 49.57211303 47.59224529 62.37694425 65.32530951 62.37694425\n",
            " 23.3464567  50.54061055 52.47760559 44.15650422 34.17142019 53.00159998\n",
            " 44.15650422 26.33769464 53.00159998 53.00159998 37.20553082]\n",
            "\n",
            "\n",
            "SODIUM\n",
            "coefficient of determination: 0.9032564234695863\n",
            "intercept: 59.53268941932566\n",
            "slope: [ 2.76174666 -2.11616728 -0.05094314]\n",
            "Standard Error 0.0888696301051789\n",
            "predicted response:\n",
            "[67.83054424 47.36269742 60.56235677 91.06510315 35.17647002 33.34387158\n",
            " 26.30020178 37.42878529 47.69404455 52.0625271  22.93119147 48.16650511\n",
            " 29.78912469 43.11097231 22.85274975 38.92010863 43.28859117 32.31554621\n",
            " 22.85274975 48.63446562 58.21898495 44.73844363 36.76247047 42.03440325\n",
            " 28.41636906 28.82796818 53.00475844 44.02884766 35.72106197 27.26135829\n",
            " 25.49773898 26.22310495 50.10505352 52.8090939  55.53252484 27.8091054\n",
            " 29.77785184 27.08508431 40.93709875 37.35034357 39.93897141 44.71770819\n",
            " 24.96891703 53.18418758 39.70049111 36.89861846 32.6662839  41.15168845\n",
            " 30.80798748 41.79726783 54.92526118 33.85330297 36.28819964 39.64412972\n",
            " 59.53268942 62.29443608 45.48185528 66.98940539 37.24935615 42.37567836\n",
            " 52.35917906 43.07400147 38.41067723 67.81792939 70.57967605 67.81792939\n",
            " 26.98590716 44.22901224 56.47294591 42.99555976 31.27413771 51.28079973\n",
            " 40.4484028  27.0066426  49.75250556 51.28079973 35.17647002]\n"
          ],
          "name": "stdout"
        }
      ]
    },
    {
      "cell_type": "markdown",
      "metadata": {
        "id": "2-4cV_PeB3pI",
        "colab_type": "text"
      },
      "source": [
        "Results:\n",
        "-Sodium is the most useful third attribute since it increases the R^2 the most and decreases the standard error the most.\n",
        "\n",
        "-Fat is the second most useful third attribute since it increases the R^2 the second most and decreases the standard error the second most.\n",
        "\n",
        "-Protein is the least useful third attribute since it increases the R^2 the least and it increases the standard error.\n",
        "\n",
        "Conclusion:\n",
        "Sodium and Fat are useful third attributes since they significantly increase the R^2 and decrease the standard error.\n",
        "\n",
        "Protein isn't a useful third attribute since its increase of R^2 is minimal and it increases the standard error.\n"
      ]
    }
  ]
}